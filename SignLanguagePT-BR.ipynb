{
 "cells": [
  {
   "cell_type": "code",
   "execution_count": 6,
   "id": "4364a649-1eda-4f5c-ab72-e49ba08b1d90",
   "metadata": {},
   "outputs": [
    {
     "name": "stdout",
     "output_type": "stream",
     "text": [
      "Requirement already satisfied: tensorflow in d:\\ds\\linguagenssinais\\signlanguagesetup\\lib\\site-packages (2.10.1)\n",
      "Requirement already satisfied: tensorflow-gpu in d:\\ds\\linguagenssinais\\signlanguagesetup\\lib\\site-packages (2.10.1)\n",
      "Requirement already satisfied: opencv-python in d:\\ds\\linguagenssinais\\signlanguagesetup\\lib\\site-packages (4.6.0.66)\n",
      "Requirement already satisfied: matplotlib in d:\\ds\\linguagenssinais\\signlanguagesetup\\lib\\site-packages (3.6.2)\n",
      "Requirement already satisfied: typing-extensions>=3.6.6 in d:\\ds\\linguagenssinais\\signlanguagesetup\\lib\\site-packages (from tensorflow) (4.4.0)\n",
      "Requirement already satisfied: keras<2.11,>=2.10.0 in d:\\ds\\linguagenssinais\\signlanguagesetup\\lib\\site-packages (from tensorflow) (2.10.0)\n",
      "Requirement already satisfied: grpcio<2.0,>=1.24.3 in d:\\ds\\linguagenssinais\\signlanguagesetup\\lib\\site-packages (from tensorflow) (1.51.1)\n",
      "Requirement already satisfied: h5py>=2.9.0 in d:\\ds\\linguagenssinais\\signlanguagesetup\\lib\\site-packages (from tensorflow) (3.7.0)\n",
      "Requirement already satisfied: astunparse>=1.6.0 in d:\\ds\\linguagenssinais\\signlanguagesetup\\lib\\site-packages (from tensorflow) (1.6.3)\n",
      "Requirement already satisfied: absl-py>=1.0.0 in d:\\ds\\linguagenssinais\\signlanguagesetup\\lib\\site-packages (from tensorflow) (1.3.0)\n",
      "Requirement already satisfied: tensorflow-io-gcs-filesystem>=0.23.1 in d:\\ds\\linguagenssinais\\signlanguagesetup\\lib\\site-packages (from tensorflow) (0.28.0)\n",
      "Requirement already satisfied: packaging in d:\\ds\\linguagenssinais\\signlanguagesetup\\lib\\site-packages (from tensorflow) (21.3)\n",
      "Requirement already satisfied: google-pasta>=0.1.1 in d:\\ds\\linguagenssinais\\signlanguagesetup\\lib\\site-packages (from tensorflow) (0.2.0)\n",
      "Requirement already satisfied: libclang>=13.0.0 in d:\\ds\\linguagenssinais\\signlanguagesetup\\lib\\site-packages (from tensorflow) (14.0.6)\n",
      "Requirement already satisfied: opt-einsum>=2.3.2 in d:\\ds\\linguagenssinais\\signlanguagesetup\\lib\\site-packages (from tensorflow) (3.3.0)\n",
      "Requirement already satisfied: tensorboard<2.11,>=2.10 in d:\\ds\\linguagenssinais\\signlanguagesetup\\lib\\site-packages (from tensorflow) (2.10.1)\n",
      "Requirement already satisfied: gast<=0.4.0,>=0.2.1 in d:\\ds\\linguagenssinais\\signlanguagesetup\\lib\\site-packages (from tensorflow) (0.4.0)\n",
      "Requirement already satisfied: termcolor>=1.1.0 in d:\\ds\\linguagenssinais\\signlanguagesetup\\lib\\site-packages (from tensorflow) (2.1.1)\n",
      "Requirement already satisfied: keras-preprocessing>=1.1.1 in d:\\ds\\linguagenssinais\\signlanguagesetup\\lib\\site-packages (from tensorflow) (1.1.2)\n",
      "Requirement already satisfied: tensorflow-estimator<2.11,>=2.10.0 in d:\\ds\\linguagenssinais\\signlanguagesetup\\lib\\site-packages (from tensorflow) (2.10.0)\n",
      "Requirement already satisfied: numpy>=1.20 in d:\\ds\\linguagenssinais\\signlanguagesetup\\lib\\site-packages (from tensorflow) (1.23.5)\n",
      "Requirement already satisfied: wrapt>=1.11.0 in d:\\ds\\linguagenssinais\\signlanguagesetup\\lib\\site-packages (from tensorflow) (1.14.1)\n",
      "Requirement already satisfied: flatbuffers>=2.0 in d:\\ds\\linguagenssinais\\signlanguagesetup\\lib\\site-packages (from tensorflow) (22.11.23)\n",
      "Requirement already satisfied: protobuf<3.20,>=3.9.2 in d:\\ds\\linguagenssinais\\signlanguagesetup\\lib\\site-packages (from tensorflow) (3.19.6)\n",
      "Requirement already satisfied: six>=1.12.0 in d:\\ds\\linguagenssinais\\signlanguagesetup\\lib\\site-packages (from tensorflow) (1.16.0)\n",
      "Requirement already satisfied: setuptools in d:\\ds\\linguagenssinais\\signlanguagesetup\\lib\\site-packages (from tensorflow) (58.1.0)\n",
      "Requirement already satisfied: pyparsing>=2.2.1 in d:\\ds\\linguagenssinais\\signlanguagesetup\\lib\\site-packages (from matplotlib) (3.0.9)\n",
      "Requirement already satisfied: cycler>=0.10 in d:\\ds\\linguagenssinais\\signlanguagesetup\\lib\\site-packages (from matplotlib) (0.11.0)\n",
      "Requirement already satisfied: pillow>=6.2.0 in d:\\ds\\linguagenssinais\\signlanguagesetup\\lib\\site-packages (from matplotlib) (9.3.0)\n",
      "Requirement already satisfied: python-dateutil>=2.7 in d:\\ds\\linguagenssinais\\signlanguagesetup\\lib\\site-packages (from matplotlib) (2.8.2)\n",
      "Requirement already satisfied: kiwisolver>=1.0.1 in d:\\ds\\linguagenssinais\\signlanguagesetup\\lib\\site-packages (from matplotlib) (1.4.4)\n",
      "Requirement already satisfied: contourpy>=1.0.1 in d:\\ds\\linguagenssinais\\signlanguagesetup\\lib\\site-packages (from matplotlib) (1.0.6)\n",
      "Requirement already satisfied: fonttools>=4.22.0 in d:\\ds\\linguagenssinais\\signlanguagesetup\\lib\\site-packages (from matplotlib) (4.38.0)\n",
      "Requirement already satisfied: wheel<1.0,>=0.23.0 in d:\\ds\\linguagenssinais\\signlanguagesetup\\lib\\site-packages (from astunparse>=1.6.0->tensorflow) (0.38.4)\n",
      "Requirement already satisfied: tensorboard-plugin-wit>=1.6.0 in d:\\ds\\linguagenssinais\\signlanguagesetup\\lib\\site-packages (from tensorboard<2.11,>=2.10->tensorflow) (1.8.1)\n",
      "Requirement already satisfied: google-auth-oauthlib<0.5,>=0.4.1 in d:\\ds\\linguagenssinais\\signlanguagesetup\\lib\\site-packages (from tensorboard<2.11,>=2.10->tensorflow) (0.4.6)\n",
      "Requirement already satisfied: markdown>=2.6.8 in d:\\ds\\linguagenssinais\\signlanguagesetup\\lib\\site-packages (from tensorboard<2.11,>=2.10->tensorflow) (3.4.1)\n",
      "Requirement already satisfied: werkzeug>=1.0.1 in d:\\ds\\linguagenssinais\\signlanguagesetup\\lib\\site-packages (from tensorboard<2.11,>=2.10->tensorflow) (2.2.2)\n",
      "Requirement already satisfied: google-auth<3,>=1.6.3 in d:\\ds\\linguagenssinais\\signlanguagesetup\\lib\\site-packages (from tensorboard<2.11,>=2.10->tensorflow) (2.15.0)\n",
      "Requirement already satisfied: tensorboard-data-server<0.7.0,>=0.6.0 in d:\\ds\\linguagenssinais\\signlanguagesetup\\lib\\site-packages (from tensorboard<2.11,>=2.10->tensorflow) (0.6.1)\n",
      "Requirement already satisfied: requests<3,>=2.21.0 in d:\\ds\\linguagenssinais\\signlanguagesetup\\lib\\site-packages (from tensorboard<2.11,>=2.10->tensorflow) (2.28.1)\n",
      "Requirement already satisfied: rsa<5,>=3.1.4 in d:\\ds\\linguagenssinais\\signlanguagesetup\\lib\\site-packages (from google-auth<3,>=1.6.3->tensorboard<2.11,>=2.10->tensorflow) (4.9)\n",
      "Requirement already satisfied: pyasn1-modules>=0.2.1 in d:\\ds\\linguagenssinais\\signlanguagesetup\\lib\\site-packages (from google-auth<3,>=1.6.3->tensorboard<2.11,>=2.10->tensorflow) (0.2.8)\n",
      "Requirement already satisfied: cachetools<6.0,>=2.0.0 in d:\\ds\\linguagenssinais\\signlanguagesetup\\lib\\site-packages (from google-auth<3,>=1.6.3->tensorboard<2.11,>=2.10->tensorflow) (5.2.0)\n",
      "Requirement already satisfied: requests-oauthlib>=0.7.0 in d:\\ds\\linguagenssinais\\signlanguagesetup\\lib\\site-packages (from google-auth-oauthlib<0.5,>=0.4.1->tensorboard<2.11,>=2.10->tensorflow) (1.3.1)\n",
      "Requirement already satisfied: importlib-metadata>=4.4 in d:\\ds\\linguagenssinais\\signlanguagesetup\\lib\\site-packages (from markdown>=2.6.8->tensorboard<2.11,>=2.10->tensorflow) (5.1.0)\n",
      "Requirement already satisfied: idna<4,>=2.5 in d:\\ds\\linguagenssinais\\signlanguagesetup\\lib\\site-packages (from requests<3,>=2.21.0->tensorboard<2.11,>=2.10->tensorflow) (3.4)\n",
      "Requirement already satisfied: certifi>=2017.4.17 in d:\\ds\\linguagenssinais\\signlanguagesetup\\lib\\site-packages (from requests<3,>=2.21.0->tensorboard<2.11,>=2.10->tensorflow) (2022.9.24)\n",
      "Requirement already satisfied: urllib3<1.27,>=1.21.1 in d:\\ds\\linguagenssinais\\signlanguagesetup\\lib\\site-packages (from requests<3,>=2.21.0->tensorboard<2.11,>=2.10->tensorflow) (1.26.13)\n",
      "Requirement already satisfied: charset-normalizer<3,>=2 in d:\\ds\\linguagenssinais\\signlanguagesetup\\lib\\site-packages (from requests<3,>=2.21.0->tensorboard<2.11,>=2.10->tensorflow) (2.1.1)\n",
      "Requirement already satisfied: MarkupSafe>=2.1.1 in d:\\ds\\linguagenssinais\\signlanguagesetup\\lib\\site-packages (from werkzeug>=1.0.1->tensorboard<2.11,>=2.10->tensorflow) (2.1.1)\n",
      "Requirement already satisfied: zipp>=0.5 in d:\\ds\\linguagenssinais\\signlanguagesetup\\lib\\site-packages (from importlib-metadata>=4.4->markdown>=2.6.8->tensorboard<2.11,>=2.10->tensorflow) (3.11.0)\n",
      "Requirement already satisfied: pyasn1<0.5.0,>=0.4.6 in d:\\ds\\linguagenssinais\\signlanguagesetup\\lib\\site-packages (from pyasn1-modules>=0.2.1->google-auth<3,>=1.6.3->tensorboard<2.11,>=2.10->tensorflow) (0.4.8)\n",
      "Requirement already satisfied: oauthlib>=3.0.0 in d:\\ds\\linguagenssinais\\signlanguagesetup\\lib\\site-packages (from requests-oauthlib>=0.7.0->google-auth-oauthlib<0.5,>=0.4.1->tensorboard<2.11,>=2.10->tensorflow) (3.2.2)\n"
     ]
    }
   ],
   "source": [
    "!pip install tensorflow tensorflow-gpu opencv-python matplotlib"
   ]
  },
  {
   "cell_type": "code",
   "execution_count": 7,
   "id": "40df7d84-8939-4810-b62e-2925150de561",
   "metadata": {},
   "outputs": [
    {
     "name": "stdout",
     "output_type": "stream",
     "text": [
      "Package                      Version\n",
      "---------------------------- ---------\n",
      "absl-py                      1.3.0\n",
      "asttokens                    2.2.1\n",
      "astunparse                   1.6.3\n",
      "backcall                     0.2.0\n",
      "cachetools                   5.2.0\n",
      "certifi                      2022.9.24\n",
      "charset-normalizer           2.1.1\n",
      "colorama                     0.4.6\n",
      "contourpy                    1.0.6\n",
      "cycler                       0.11.0\n",
      "debugpy                      1.6.4\n",
      "decorator                    5.1.1\n",
      "entrypoints                  0.4\n",
      "executing                    1.2.0\n",
      "flatbuffers                  22.11.23\n",
      "fonttools                    4.38.0\n",
      "gast                         0.4.0\n",
      "google-auth                  2.15.0\n",
      "google-auth-oauthlib         0.4.6\n",
      "google-pasta                 0.2.0\n",
      "grpcio                       1.51.1\n",
      "h5py                         3.7.0\n",
      "idna                         3.4\n",
      "importlib-metadata           5.1.0\n",
      "ipykernel                    6.17.1\n",
      "ipython                      8.7.0\n",
      "jedi                         0.18.2\n",
      "jupyter_client               7.4.8\n",
      "jupyter_core                 5.1.0\n",
      "keras                        2.10.0\n",
      "Keras-Preprocessing          1.1.2\n",
      "kiwisolver                   1.4.4\n",
      "libclang                     14.0.6\n",
      "Markdown                     3.4.1\n",
      "MarkupSafe                   2.1.1\n",
      "matplotlib                   3.6.2\n",
      "matplotlib-inline            0.1.6\n",
      "nest-asyncio                 1.5.6\n",
      "numpy                        1.23.5\n",
      "oauthlib                     3.2.2\n",
      "opencv-python                4.6.0.66\n",
      "opt-einsum                   3.3.0\n",
      "packaging                    21.3\n",
      "parso                        0.8.3\n",
      "pickleshare                  0.7.5\n",
      "Pillow                       9.3.0\n",
      "pip                          22.3.1\n",
      "platformdirs                 2.5.4\n",
      "prompt-toolkit               3.0.36\n",
      "protobuf                     3.19.6\n",
      "psutil                       5.9.4\n",
      "pure-eval                    0.2.2\n",
      "pyasn1                       0.4.8\n",
      "pyasn1-modules               0.2.8\n",
      "Pygments                     2.13.0\n",
      "pyparsing                    3.0.9\n",
      "python-dateutil              2.8.2\n",
      "pywin32                      305\n",
      "pyzmq                        24.0.1\n",
      "requests                     2.28.1\n",
      "requests-oauthlib            1.3.1\n",
      "rsa                          4.9\n",
      "setuptools                   58.1.0\n",
      "six                          1.16.0\n",
      "stack-data                   0.6.2\n",
      "tensorboard                  2.10.1\n",
      "tensorboard-data-server      0.6.1\n",
      "tensorboard-plugin-wit       1.8.1\n",
      "tensorflow                   2.10.1\n",
      "tensorflow-estimator         2.10.0\n",
      "tensorflow-gpu               2.10.1\n",
      "tensorflow-io-gcs-filesystem 0.28.0\n",
      "termcolor                    2.1.1\n",
      "tornado                      6.2\n",
      "traitlets                    5.6.0\n",
      "typing_extensions            4.4.0\n",
      "urllib3                      1.26.13\n",
      "wcwidth                      0.2.5\n",
      "Werkzeug                     2.2.2\n",
      "wheel                        0.38.4\n",
      "wrapt                        1.14.1\n",
      "zipp                         3.11.0\n"
     ]
    }
   ],
   "source": [
    "!pip list"
   ]
  },
  {
   "cell_type": "code",
   "execution_count": 8,
   "id": "5225fe87-d30c-4566-b060-11779ddab66b",
   "metadata": {},
   "outputs": [
    {
     "name": "stdout",
     "output_type": "stream",
     "text": [
      "setup complete\n"
     ]
    }
   ],
   "source": [
    "print('setup complete')"
   ]
  },
  {
   "cell_type": "code",
   "execution_count": null,
   "id": "a5ba407c-533b-4454-89e4-07c3d11d1651",
   "metadata": {},
   "outputs": [],
   "source": []
  }
 ],
 "metadata": {
  "kernelspec": {
   "display_name": "signlanguagesetup",
   "language": "python",
   "name": "signlanguagesetup"
  },
  "language_info": {
   "codemirror_mode": {
    "name": "ipython",
    "version": 3
   },
   "file_extension": ".py",
   "mimetype": "text/x-python",
   "name": "python",
   "nbconvert_exporter": "python",
   "pygments_lexer": "ipython3",
   "version": "3.9.13"
  }
 },
 "nbformat": 4,
 "nbformat_minor": 5
}
